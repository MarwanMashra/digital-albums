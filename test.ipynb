{
 "cells": [
  {
   "cell_type": "code",
   "execution_count": 22,
   "metadata": {},
   "outputs": [
    {
     "name": "stdout",
     "output_type": "stream",
     "text": [
      "original string:  hello geeks\n",
      "encrypted string:  b'gAAAAABj8s_0owlo-Mp2fHZmT4H-tt-gWbPxblPrHH5Ut7CnWj6vwWVhs60eRGZmfNGkqhnsS0zsUH9rACZYNEJNjP59PMDaEg=='\n"
     ]
    }
   ],
   "source": [
    "from cryptography.fernet import Fernet\n",
    " \n",
    "message = \"hello geeks\"\n",
    " \n",
    "key = \"7l3WaUBEYQvs9As1p4kGabxw0rKKyMc_-Mi1tqp-Tn0=\".encode()\n",
    " \n",
    "\n",
    " \n",
    "fernet = Fernet(key)\n",
    "\n",
    "encMessage = fernet.encrypt(message.encode())\n",
    " \n",
    "print(\"original string: \", message)\n",
    "print(\"encrypted string: \", encMessage)\n"
   ]
  },
  {
   "cell_type": "code",
   "execution_count": 29,
   "metadata": {},
   "outputs": [
    {
     "name": "stdout",
     "output_type": "stream",
     "text": [
      "decrypted string:  hello geeks\n"
     ]
    }
   ],
   "source": [
    "\n",
    "decMessage = fernet.decrypt(encMessage).decode()\n",
    " \n",
    "print(\"decrypted string: \", decMessage)"
   ]
  },
  {
   "cell_type": "code",
   "execution_count": 7,
   "metadata": {},
   "outputs": [
    {
     "name": "stdout",
     "output_type": "stream",
     "text": [
      "b'7l3WaUBEYQvs9As1p4kGabxw0rKKyMc_-Mi1tqp-Tn0='\n"
     ]
    },
    {
     "data": {
      "text/plain": [
       "b'hi'"
      ]
     },
     "execution_count": 7,
     "metadata": {},
     "output_type": "execute_result"
    }
   ],
   "source": [
    "print(key)\n",
    ".encode()"
   ]
  }
 ],
 "metadata": {
  "kernelspec": {
   "display_name": "Python 3",
   "language": "python",
   "name": "python3"
  },
  "language_info": {
   "codemirror_mode": {
    "name": "ipython",
    "version": 3
   },
   "file_extension": ".py",
   "mimetype": "text/x-python",
   "name": "python",
   "nbconvert_exporter": "python",
   "pygments_lexer": "ipython3",
   "version": "3.10.4"
  },
  "orig_nbformat": 4,
  "vscode": {
   "interpreter": {
    "hash": "33184612fe23ea789693bd8266f7c5cf5860109e6e433b1efdda378c5f430ce8"
   }
  }
 },
 "nbformat": 4,
 "nbformat_minor": 2
}
