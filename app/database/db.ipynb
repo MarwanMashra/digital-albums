{
 "cells": [
  {
   "cell_type": "code",
   "execution_count": 4,
   "metadata": {},
   "outputs": [],
   "source": [
    "#!/usr/bin/env python3\n",
    "# -*- coding: utf-8 -*-\n",
    "\n",
    "from os.path import join, dirname\n",
    "import dns, pymongo, sys, pprint, urllib\n",
    "\n",
    "\n",
    "\"\"\"Extrait de mongoDB manual:\n",
    "'For a compound multikey index, each indexed document can have at most one indexed\n",
    "field whose value is an array.'\n",
    "'If you use the unique constraint on a compound index, then MongoDB will enforce\n",
    "uniqueness on the combination of the index key values.'\n",
    "\"\"\"\n",
    "\n",
    "with open(\"mongo.ini\", \"r\") as initfile:\n",
    "    f = initfile.readlines()\n",
    "\n",
    "init = {}\n",
    "\n",
    "for line in f:\n",
    "    if not (line.strip().startswith(\"#\")):\n",
    "        index = line.find(\"=\")\n",
    "        if index != -1:\n",
    "            init[line[:index].strip()] = line[index + 1 :].strip()\n",
    "\n",
    "client = pymongo.MongoClient(\n",
    "    \"mongodb+srv://\"\n",
    "    + urllib.parse.quote_plus(init[\"username\"])\n",
    "    + \":\"\n",
    "    + urllib.parse.quote_plus(init[\"password\"])\n",
    "    + \"@cluster0.x6qcjdn.mongodb.net/\"\n",
    "    + urllib.parse.quote_plus(init[\"dbname\"])\n",
    "    + \"?retryWrites=true&w=majority\"\n",
    ")[init[\"dbname\"]]\n",
    "\n",
    "\n",
    "class Mongo:\n",
    "    \"\"\"Classe de base dont héritent les autres. Permet d'obtenir des informations sur la\n",
    "    base de données, mais pas d'opérer dessus.\n",
    "    \"\"\"\n",
    "\n",
    "    @classmethod\n",
    "    def mongocheck(cls, coll_exists):\n",
    "        \"\"\"Vérifie l'existence d'une collection.\"\"\"\n",
    "        return coll_exists in client.list_collection_names()\n",
    "\n",
    "    @classmethod\n",
    "    def indexcheck(cls, coll_tocheck, index):\n",
    "        \"\"\"Vérifie l'existence d'un index. Renvoie vrai s'il existe, faux sinon. L'index\n",
    "        en paramètre doit être une liste de champs à indexer.\n",
    "        Retour de list_indexes(): itérateur sur des documents au format SON (dictionnaire\n",
    "        ordonné). Convertir en dico Python avant utilisation.\n",
    "        \"\"\"\n",
    "        coll = client[coll_tocheck]\n",
    "        for idx in coll.list_indexes():\n",
    "            idx = idx.to_dict()  # SON -> dictionnaire\n",
    "            if all(name in index for name in idx[\"key\"].keys()):\n",
    "                return True\n",
    "        return False\n",
    "\n",
    "    @classmethod\n",
    "    def nonunique_index(cls, coll_toindex, **index):\n",
    "        \"\"\"Création d'un index n'imposant pas une contrainte d'unicité.\n",
    "        Syntaxe pour l'index en paramètre: <nom champ du document>=<'A' ou 'D'>,... Sera\n",
    "        passé à la fonction comme dictionnaire, puis converti en liste de tuples pour le\n",
    "        passage à la méthode de pymongo.collections.\n",
    "        \"\"\"\n",
    "        coll = client[coll_toindex]\n",
    "        if len(index) > 0 and cls.indexcheck(coll_toindex, list(index.keys())):\n",
    "            return\n",
    "\n",
    "        index_list = [\n",
    "            (key, pymongo.ASCENDING) if val == \"A\" else (key, pymongo.DESCENDING)\n",
    "            for key, val in index.items()\n",
    "        ]\n",
    "        if index_list:\n",
    "            index_name = \"_\".join(i[0].split(\"_\")[0] for i in index_list)\n",
    "            coll.create_index(index_list, name=index_name)\n",
    "\n",
    "    @classmethod\n",
    "    def mongocount(cls, coll_tocount, query={}):\n",
    "        \"\"\"Compte et renvoit le nombre de documents dans une collection.\n",
    "        'query' est une requête pour filtrer les documents devant être comptés.\n",
    "        \"\"\"\n",
    "        coll = client[coll_tocount]\n",
    "        return coll.count_documents(query)\n",
    "\n",
    "\n",
    "class MongoSave(Mongo):\n",
    "    \"\"\"Insertion de documents: création de la collection si elle n'existe pas, et création\n",
    "    optionnelle d'un index sur les champs passés en paramètre. Syntaxe pour l'index en\n",
    "    paramètre: <nom champ du document>=<'A' ou 'D'>,... L'index impose une contrainte\n",
    "    d'unicité sur ces champs.\n",
    "    De pymongo: 'An important note about collections (and databases) in MongoDB is that\n",
    "    they are created lazily (...) Collections and databases are created when the first\n",
    "    document is inserted into them.'\n",
    "    \"\"\"\n",
    "\n",
    "    def __init__(self, dblist):\n",
    "        self.document = dblist\n",
    "\n",
    "    def reinit(self, dblist):\n",
    "        self.document = dblist\n",
    "\n",
    "    def storeindb(self, coll_tostore, **index):\n",
    "        if (\n",
    "            len(self.document) == 0\n",
    "        ):  # Une liste vide passée à insert_many provoque un bug\n",
    "            return\n",
    "\n",
    "        coll = client[coll_tostore]\n",
    "        if not self.indexcheck(coll_tostore, list(index.keys())):\n",
    "            index_list = [\n",
    "                (key, pymongo.ASCENDING) if val == \"A\" else (key, pymongo.DESCENDING)\n",
    "                for key, val in index.items()\n",
    "            ]\n",
    "            if index_list:\n",
    "                index_name = \"_\".join(i[0].split(\"_\")[0] for i in index_list)\n",
    "                coll.create_index(index_list, name=index_name, unique=True)\n",
    "\n",
    "        try:\n",
    "            coll.insert_many(self.document, ordered=False)\n",
    "        except pymongo.errors.BulkWriteError as error:\n",
    "            for e in error.details[\"writeErrors\"]:\n",
    "                if e[\"code\"] == 11000:  # DuplicateKeyError\n",
    "                    print(\n",
    "                        \"Document \"\n",
    "                        + str(e[\"op\"][\"_id\"])\n",
    "                        + \" déjà présent dans la collection \"\n",
    "                        + coll.name\n",
    "                        + \" de la base de données.\"\n",
    "                    )\n",
    "                    pprint.pprint(e)\n",
    "                else:\n",
    "                    raise\n",
    "        else:\n",
    "            pass\n",
    "\n",
    "\n",
    "class MongoLoad(Mongo):\n",
    "    \"\"\"Recherche et extraction d'un document sous forme de liste de document(s).\n",
    "    Format paramètres:\n",
    "    La requête:\n",
    "    {\n",
    "            <champs>: <valeur>,\n",
    "            ...\n",
    "            <champs>: { <opérateur>: <valeur> }\n",
    "            ...\n",
    "            <opérateur logique>: { <champ>: <valeur>\n",
    "                                                       ...\n",
    "                                                       <champ>: <valeur>\n",
    "                                                     }\n",
    "    }\n",
    "    La projection par inclusion:\n",
    "    {\n",
    "            <champ>: 1\n",
    "            ...\n",
    "            <champ>: 1\n",
    "            (optionnel) '_id': 0 (seul exclusion qui marche avec l'inclusion)\n",
    "    }\n",
    "    OU par exclusion\n",
    "    {\n",
    "            <champ>: 0\n",
    "            ...\n",
    "            <champ>: 0\n",
    "    }\n",
    "    Si on veut retourner tous les champ laisser le paramètre par défaut (on ne\n",
    "    veut jamais récupérer l'objet _id, non directement convertible en JSON).\n",
    "    \"\"\"\n",
    "\n",
    "    def __init__(self, query=None, proj={\"_id\": 0}):\n",
    "        self.query = query\n",
    "        self.projection = proj\n",
    "\n",
    "    def reinit(self, query=None, proj={\"_id\": 0}):\n",
    "        self.query = query\n",
    "        self.projection = proj\n",
    "\n",
    "    def retrieve(self, coll_tosearch, limit=0):\n",
    "        coll = client[coll_tosearch]\n",
    "        if not self.projection and limit == 0:\n",
    "            return coll.find(self.query)\n",
    "        elif not self.projection:\n",
    "            return coll.find(self.query, limit=limit)\n",
    "        elif limit == 0:\n",
    "            return coll.find(self.query, self.projection)\n",
    "        else:\n",
    "            return coll.find(self.query, self.projection, limit=limit)\n",
    "\n",
    "    def dltdocument(self, coll_toupd):\n",
    "        \"\"\"Efface un ou plusieurs documents correspondants à la requête.\"\"\"\n",
    "        coll = client[coll_toupd]\n",
    "        return coll.delete_many(self.query).deleted_count\n",
    "\n",
    "\n",
    "class MongoUpd(Mongo):\n",
    "    \"\"\"Mises à jour.\n",
    "    Format paramètres:\n",
    "    La requête: voir classe précédente.\n",
    "    La mise à jour, pour un document ou un ensemble de documents:\n",
    "    {\n",
    "            <opérateur>:\n",
    "                                    {\n",
    "                                            <champ>: <nouvelle_valeur>\n",
    "                                            ...\n",
    "                                    }\n",
    "            ...\n",
    "    }\n",
    "    \"\"\"\n",
    "\n",
    "    def __init__(self, query, update, list_id=[], list_val=[]):\n",
    "        self.query = query\n",
    "        self.update = update\n",
    "        self.list_id = list_id\n",
    "        self.list_val = list_val\n",
    "\n",
    "    def reinit(self, query=None, update=None, list_id=[], list_val=[]):\n",
    "        if query is not None:\n",
    "            self.query = query\n",
    "        if update is not None:\n",
    "            self.update = update\n",
    "        self.list_id = list_id\n",
    "        self.list_val = list_val\n",
    "\n",
    "    def singleval_upd(self, coll_toupd):\n",
    "        \"\"\"Mise à jour groupée: plusieurs documents reçoivent la même mise à jour,\n",
    "        c'est-à-dire un même champ est mis à jour avec la même valeur pour tous.\n",
    "        \"\"\"\n",
    "        coll = client[coll_toupd]\n",
    "        coll.update_many(self.query, self.update)\n",
    "\n",
    "    def multval_upd(self, coll_toupd, multfield):\n",
    "        \"\"\"Mise à jour individualisée: pour le même champ, chaque document reçoit\n",
    "        une valeur propre. Le paramètre multfield désigne ce champ individualisé.\n",
    "        \"\"\"\n",
    "        coll = client[coll_toupd]\n",
    "        assert (\n",
    "            self.list_id and self.list_val\n",
    "        ), \"Listes manquantes pour la méthode de mise à jour.\"\n",
    "        for ident, value in zip(self.list_id, self.list_val):\n",
    "            self.query[multfield] = ident\n",
    "            for operator in self.update.keys():\n",
    "                for key in self.update[operator].keys():\n",
    "                    self.update[operator][key] = value\n",
    "            coll.update_one(self.query, self.update)\n",
    "\n",
    "\n",
    "class MongoRemove(Mongo):\n",
    "    def __init__(self, query):\n",
    "        self.query = query\n",
    "\n",
    "    def remove(self, coll_toupd):\n",
    "        coll = client[coll_toupd]\n",
    "        print(self.query)\n",
    "        coll.delete_one(self.query)\n"
   ]
  },
  {
   "cell_type": "code",
   "execution_count": 27,
   "metadata": {},
   "outputs": [
    {
     "ename": "SyntaxError",
     "evalue": "invalid syntax (2110559021.py, line 2)",
     "output_type": "error",
     "traceback": [
      "\u001b[1;36m  Cell \u001b[1;32mIn [27], line 2\u001b[1;36m\u001b[0m\n\u001b[1;33m    **l\u001b[0m\n\u001b[1;37m    ^\u001b[0m\n\u001b[1;31mSyntaxError\u001b[0m\u001b[1;31m:\u001b[0m invalid syntax\n"
     ]
    }
   ],
   "source": [
    "l = [1, 2, 3, 4, 5, 6, 7, 8, 9, 10]\n"
   ]
  },
  {
   "cell_type": "code",
   "execution_count": 26,
   "metadata": {},
   "outputs": [
    {
     "name": "stdout",
     "output_type": "stream",
     "text": [
      "v3ef706f88e894a1e99d7c99495194f03\n",
      "ee632b810c0de4d688678a0476fe75b31\n"
     ]
    }
   ],
   "source": [
    "import uuid\n",
    "\n",
    "# use uuid to generate a random hex\n",
    "\n",
    "view_url = f'v{uuid.uuid4().hex}'\n",
    "print(view_url)\n",
    "edit_url = f'e{uuid.uuid4().hex}'\n",
    "print(edit_url)\n"
   ]
  },
  {
   "cell_type": "code",
   "execution_count": 1,
   "metadata": {},
   "outputs": [
    {
     "ename": "SyntaxError",
     "evalue": "invalid syntax (206985806.py, line 1)",
     "output_type": "error",
     "traceback": [
      "\u001b[1;36m  Cell \u001b[1;32mIn [1], line 1\u001b[1;36m\u001b[0m\n\u001b[1;33m    def f(images[]):\u001b[0m\n\u001b[1;37m                ^\u001b[0m\n\u001b[1;31mSyntaxError\u001b[0m\u001b[1;31m:\u001b[0m invalid syntax\n"
     ]
    }
   ],
   "source": [
    "def f(images[]):\n",
    "    print(images)\n",
    "\n"
   ]
  },
  {
   "cell_type": "code",
   "execution_count": 20,
   "metadata": {},
   "outputs": [
    {
     "name": "stdout",
     "output_type": "stream",
     "text": [
      "{'name': 'mashra', 'username': 'marwan', 'password': '$2b$12$WQRDkSjbme4k0JQhEZ.2KuaOW.DLDeorpZSCzaxIPtTRExqd5na2W'}\n"
     ]
    }
   ],
   "source": [
    "coll_accounts = \"users\"\n",
    "username = \"marwan\"\n",
    "account_coll = MongoLoad({\"username\": username})\n",
    "account = list(account_coll.retrieve(coll_accounts, limit=1))\n",
    "print(account[0])\n",
    "password = account[0][\"password\"]"
   ]
  },
  {
   "cell_type": "code",
   "execution_count": 13,
   "metadata": {},
   "outputs": [],
   "source": []
  },
  {
   "cell_type": "code",
   "execution_count": 10,
   "metadata": {},
   "outputs": [
    {
     "data": {
      "text/plain": [
       "(\"b'$2b$12$pRwz.kb8kCTIefiKmtsDLOl7VsFU8trSOCp9NHsGzAayl13T1OEra'\",\n",
       " '$2b$12$pRwz.kb8kCTIefiKmtsDLOl7VsFU8trSOCp9NHsGzAayl13T1OEra')"
      ]
     },
     "execution_count": 10,
     "metadata": {},
     "output_type": "execute_result"
    }
   ],
   "source": [
    "import bcrypt\n",
    "password = \"123456\"\n",
    "hashed_password = bcrypt.hashpw(password.encode(\"utf-8\"), bcrypt.gensalt())\n",
    "str(hashed_password), str(str(hashed_password)[2:-1])"
   ]
  },
  {
   "cell_type": "code",
   "execution_count": 22,
   "metadata": {},
   "outputs": [],
   "source": [
    "# convert the string by to bytes\n",
    "password = bytes(password , 'utf-8')"
   ]
  },
  {
   "cell_type": "code",
   "execution_count": 24,
   "metadata": {},
   "outputs": [
    {
     "data": {
      "text/plain": [
       "True"
      ]
     },
     "execution_count": 24,
     "metadata": {},
     "output_type": "execute_result"
    }
   ],
   "source": [
    "test_password = \"123456\"\n",
    "bcrypt.hashpw(test_password.encode('utf-8'),password) == password"
   ]
  }
 ],
 "metadata": {
  "kernelspec": {
   "display_name": "Python 3",
   "language": "python",
   "name": "python3"
  },
  "language_info": {
   "codemirror_mode": {
    "name": "ipython",
    "version": 3
   },
   "file_extension": ".py",
   "mimetype": "text/x-python",
   "name": "python",
   "nbconvert_exporter": "python",
   "pygments_lexer": "ipython3",
   "version": "3.10.4"
  },
  "orig_nbformat": 4,
  "vscode": {
   "interpreter": {
    "hash": "33184612fe23ea789693bd8266f7c5cf5860109e6e433b1efdda378c5f430ce8"
   }
  }
 },
 "nbformat": 4,
 "nbformat_minor": 2
}
